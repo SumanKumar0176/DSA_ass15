{
  "nbformat": 4,
  "nbformat_minor": 0,
  "metadata": {
    "colab": {
      "provenance": []
    },
    "kernelspec": {
      "name": "python3",
      "display_name": "Python 3"
    },
    "language_info": {
      "name": "python"
    }
  },
  "cells": [
    {
      "cell_type": "code",
      "execution_count": null,
      "metadata": {
        "colab": {
          "base_uri": "https://localhost:8080/",
          "height": 140
        },
        "id": "K-viWQR0MO3u",
        "outputId": "1c256480-e9c4-4c50-f866-4f23314fc927"
      },
      "outputs": [
        {
          "output_type": "execute_result",
          "data": {
            "text/plain": [
              "'<aside>\\n💡 **Question 1**\\n\\nGiven an array\\xa0**arr[ ]**\\xa0of size\\xa0**N**\\xa0having\\xa0elements, the\\xa0task is to find the next greater element for each element of the array in order of their appearance in the array.Next greater element of an element in the array is the nearest element on the right which is greater than the current element.If there does not exist next greater of current element, then next greater element for current element is -1. For example, next greater of the last element is always \\n\\n</aside>'"
            ],
            "application/vnd.google.colaboratory.intrinsic+json": {
              "type": "string"
            }
          },
          "metadata": {},
          "execution_count": 13
        }
      ],
      "source": [
        "\"\"\"<aside>\n",
        "💡 **Question 1**\n",
        "\n",
        "Given an array **arr[ ]** of size **N** having elements, the task is to find the next greater element for each element of the array in order of their appearance in the array.Next greater element of an element in the array is the nearest element on the right which is greater than the current element.If there does not exist next greater of current element, then next greater element for current element is -1. For example, next greater of the last element is always\n",
        "\n",
        "</aside>\"\"\""
      ]
    },
    {
      "cell_type": "code",
      "source": [
        "def find_next_greater_elements(arr):\n",
        "  n=len(arr)\n",
        "  result=[-1]*n\n",
        "  stack=[]\n",
        "  for i in range(n):\n",
        "    while stack and arr[i]>arr[stack[-1]]:\n",
        "      idx=stack.pop()\n",
        "      result[idx]=arr[i]\n",
        "    stack.append(i)\n",
        "  return result"
      ],
      "metadata": {
        "id": "G45N5R2JR55Z"
      },
      "execution_count": null,
      "outputs": []
    },
    {
      "cell_type": "code",
      "source": [
        "arr=[4,5,2,25,13]\n",
        "result=find_next_greater_elements(arr)\n",
        "print(result)"
      ],
      "metadata": {
        "colab": {
          "base_uri": "https://localhost:8080/"
        },
        "id": "ncTl5-xBNrWc",
        "outputId": "df0f3e00-fcc5-4394-d7e1-9c9fa7ccd7b2"
      },
      "execution_count": null,
      "outputs": [
        {
          "output_type": "stream",
          "name": "stdout",
          "text": [
            "[5, 25, 25, -1, -1]\n"
          ]
        }
      ]
    },
    {
      "cell_type": "code",
      "source": [
        "\"\"\"\n",
        "<aside>\n",
        "💡\n",
        "\n",
        "Given an array **a** of integers of length **n**, find the nearest smaller number for every element such that the smaller element is on left side.If no small element present on the left print -1.\n",
        "\n",
        "</aside>\n",
        "\"\"\""
      ],
      "metadata": {
        "colab": {
          "base_uri": "https://localhost:8080/",
          "height": 70
        },
        "id": "OkkIm6bZOT7b",
        "outputId": "d62212b2-ef02-4799-c54e-38d3d5830027"
      },
      "execution_count": null,
      "outputs": [
        {
          "output_type": "execute_result",
          "data": {
            "text/plain": [
              "'\\n<aside>\\n💡\\n\\nGiven an array **a** of integers of length **n**, find the nearest smaller number for every element such that the smaller element is on left side.If no small element present on the left print -1.\\n\\n</aside>\\n'"
            ],
            "application/vnd.google.colaboratory.intrinsic+json": {
              "type": "string"
            }
          },
          "metadata": {},
          "execution_count": 16
        }
      ]
    },
    {
      "cell_type": "code",
      "source": [
        "def find_nearest_smaller_elements(arr):\n",
        "  n=len(arr)\n",
        "  result=[-1]*n\n",
        "  stack=[]\n",
        "  for i in range(n):\n",
        "    while stack and arr[i]<=arr[stack[-1]]:\n",
        "      stack.pop()\n",
        "    if stack:\n",
        "      result[i]=arr[stack[-1]]\n",
        "    stack.append(i)\n",
        "  return result\n",
        "\n",
        "\n"
      ],
      "metadata": {
        "id": "NETo75NdSO4n"
      },
      "execution_count": null,
      "outputs": []
    },
    {
      "cell_type": "code",
      "source": [
        "arr=[1,6,2]\n",
        "result=find_nearest_smaller_elements(arr)\n",
        "print(result)"
      ],
      "metadata": {
        "colab": {
          "base_uri": "https://localhost:8080/"
        },
        "id": "e2BQipuJUm2h",
        "outputId": "aecd093d-2200-4263-d87c-19b08de36d1b"
      },
      "execution_count": null,
      "outputs": [
        {
          "output_type": "stream",
          "name": "stdout",
          "text": [
            "[-1, 1, 1]\n"
          ]
        }
      ]
    },
    {
      "cell_type": "code",
      "source": [
        "\"\"\"\n",
        "<aside>\n",
        "💡 **Question 3**\n",
        "\n",
        "Implement a Stack using two queues **q1** and **q2**.\n",
        "\n",
        "</aside>\n",
        "\"\"\""
      ],
      "metadata": {
        "colab": {
          "base_uri": "https://localhost:8080/",
          "height": 53
        },
        "id": "lJyMn4q_U4ER",
        "outputId": "0175a770-debb-400c-f617-79038cd383b8"
      },
      "execution_count": null,
      "outputs": [
        {
          "output_type": "execute_result",
          "data": {
            "text/plain": [
              "'\\n<aside>\\n💡 **Question 3**\\n\\nImplement a Stack\\xa0using two queues\\xa0**q1**\\xa0and\\xa0**q2**.\\n\\n</aside>\\n'"
            ],
            "application/vnd.google.colaboratory.intrinsic+json": {
              "type": "string"
            }
          },
          "metadata": {},
          "execution_count": 19
        }
      ]
    },
    {
      "cell_type": "code",
      "source": [
        "from queue import Queue\n",
        "\n",
        "class StackUsingQueues:\n",
        "    def __init__(self):\n",
        "        self.q1 = Queue()\n",
        "        self.q2 = Queue()\n",
        "\n",
        "    def push(self, value):\n",
        "        self.q1.put(value)\n",
        "\n",
        "    def pop(self):\n",
        "        if self.empty():\n",
        "            return None\n",
        "\n",
        "        while self.q1.qsize() > 1:\n",
        "            self.q2.put(self.q1.get())\n",
        "\n",
        "        popped_value = self.q1.get()\n",
        "\n",
        "        self.q1, self.q2 = self.q2, self.q1\n",
        "\n",
        "        return popped_value\n",
        "\n",
        "    def top(self):\n",
        "        if self.empty():\n",
        "            return None\n",
        "\n",
        "        while self.q1.qsize() > 1:\n",
        "            self.q2.put(self.q1.get())\n",
        "\n",
        "        top_value = self.q1.get()\n",
        "        self.q2.put(top_value)\n",
        "\n",
        "        self.q1, self.q2 = self.q2, self.q1\n",
        "\n",
        "        return top_value\n",
        "\n",
        "    def empty(self):\n",
        "        return self.q1.empty() and self.q2.empty()\n",
        "\n",
        "# Example usage\n",
        "stack = StackUsingQueues()\n",
        "stack.push(1)\n",
        "stack.push(2)\n",
        "stack.push(3)\n",
        "\n",
        "print(stack.top())\n",
        "print(stack.pop())\n",
        "print(stack.empty())\n",
        "print(stack.pop())\n",
        "print(stack.pop())\n",
        "print(stack.empty())\n"
      ],
      "metadata": {
        "colab": {
          "base_uri": "https://localhost:8080/"
        },
        "id": "e9ARr34ggEfm",
        "outputId": "c24e8cc7-a213-4f94-8966-a36b25851438"
      },
      "execution_count": null,
      "outputs": [
        {
          "output_type": "stream",
          "name": "stdout",
          "text": [
            "3\n",
            "3\n",
            "False\n",
            "2\n",
            "1\n",
            "True\n"
          ]
        }
      ]
    },
    {
      "cell_type": "code",
      "source": [
        "\"\"\"\n",
        "<aside>\n",
        "💡 **Question 4**\n",
        "\n",
        "You are given a stack **St**. You have to reverse the stack using recursion.\n",
        "\n",
        "</aside>\n",
        "\"\"\""
      ],
      "metadata": {
        "colab": {
          "base_uri": "https://localhost:8080/",
          "height": 53
        },
        "id": "0c2pda0cg4XV",
        "outputId": "01837d3d-7eed-4b21-a6ea-6464c1530d94"
      },
      "execution_count": null,
      "outputs": [
        {
          "output_type": "execute_result",
          "data": {
            "text/plain": [
              "'\\n<aside>\\n💡 **Question 4**\\n\\nYou are given a stack\\xa0**St**. You have to reverse the stack using recursion.\\n\\n</aside>\\n'"
            ],
            "application/vnd.google.colaboratory.intrinsic+json": {
              "type": "string"
            }
          },
          "metadata": {},
          "execution_count": 27
        }
      ]
    },
    {
      "cell_type": "code",
      "source": [
        "def insert_at_bottom(stack, item):\n",
        "    if not stack:\n",
        "        stack.append(item)\n",
        "    else:\n",
        "        temp = stack.pop()\n",
        "        insert_at_bottom(stack, item)\n",
        "        stack.append(temp)\n",
        "\n",
        "def reverse_stack(stack):\n",
        "    if stack:\n",
        "        temp = stack.pop()\n",
        "        reverse_stack(stack)\n",
        "        insert_at_bottom(stack, temp)\n",
        "\n",
        "# Example usage\n",
        "stack = [1, 2, 3, 4, 5]\n",
        "print(\"Original Stack:\", stack)\n",
        "\n",
        "reverse_stack(stack)\n",
        "print(\"Reversed Stack:\", stack)"
      ],
      "metadata": {
        "colab": {
          "base_uri": "https://localhost:8080/"
        },
        "id": "hEThGbR7jJLd",
        "outputId": "89d7bd28-3f0d-4750-9aeb-0fdb1e888387"
      },
      "execution_count": null,
      "outputs": [
        {
          "output_type": "stream",
          "name": "stdout",
          "text": [
            "Original Stack: [1, 2, 3, 4, 5]\n",
            "Reversed Stack: [5, 4, 3, 2, 1]\n"
          ]
        }
      ]
    },
    {
      "cell_type": "code",
      "source": [
        "\"\"\"\n",
        "<aside>\n",
        "💡 **Question 5**\n",
        "\n",
        "You are given a string **S**, the task is to reverse the string using stack.\n",
        "\n",
        "</aside>\n",
        "\"\"\""
      ],
      "metadata": {
        "id": "ZBXuFVHHpH6U",
        "colab": {
          "base_uri": "https://localhost:8080/",
          "height": 53
        },
        "outputId": "d98ea339-a0aa-4174-cac8-5c05ab76fcec"
      },
      "execution_count": 1,
      "outputs": [
        {
          "output_type": "execute_result",
          "data": {
            "text/plain": [
              "'\\n<aside>\\n💡 **Question 5**\\n\\nYou are given a string\\xa0**S**, the task is to reverse the string using stack.\\n\\n</aside>\\n'"
            ],
            "application/vnd.google.colaboratory.intrinsic+json": {
              "type": "string"
            }
          },
          "metadata": {},
          "execution_count": 1
        }
      ]
    },
    {
      "cell_type": "code",
      "source": [
        "def reverse_string_using_stack(S):\n",
        "  stack=[]\n",
        "  for char in S:\n",
        "    stack.append(char)\n",
        "\n",
        "  reversed_string=\"\"\n",
        "\n",
        "  while len(stack)>0:\n",
        "    reversed_string +=stack.pop()\n",
        "\n",
        "  return reversed_string\n",
        ""
      ],
      "metadata": {
        "id": "YbPxSXs2BSmw"
      },
      "execution_count": 2,
      "outputs": []
    },
    {
      "cell_type": "code",
      "source": [
        "input_string='hello,  world'\n",
        "reversed_string=reverse_string_using_stack(input_string)\n",
        "print('reversed_string: ',reversed_string)"
      ],
      "metadata": {
        "colab": {
          "base_uri": "https://localhost:8080/"
        },
        "id": "en2aQDOoFcJJ",
        "outputId": "555abb9c-6c91-4984-e4aa-e6bef0998396"
      },
      "execution_count": 4,
      "outputs": [
        {
          "output_type": "stream",
          "name": "stdout",
          "text": [
            "reversed_string:  dlrow  ,olleh\n"
          ]
        }
      ]
    },
    {
      "cell_type": "code",
      "source": [
        " \"\"\"\n",
        " <aside>\n",
        "💡 **Question 6**\n",
        "\n",
        "Given string **S** representing a postfix expression, the task is to evaluate the expression and find the final value. Operators will only include the basic arithmetic operators like ***, /, +**\n",
        "\n",
        "</aside>\n",
        "\"\"\"\n"
      ],
      "metadata": {
        "colab": {
          "base_uri": "https://localhost:8080/",
          "height": 88
        },
        "id": "I5gJZJ3yF-6H",
        "outputId": "047cda95-eb36-4647-cbfc-441409e79fd5"
      },
      "execution_count": 5,
      "outputs": [
        {
          "output_type": "execute_result",
          "data": {
            "text/plain": [
              "'\\n<aside>\\n💡 **Question 6**\\n\\nGiven string\\xa0**S**\\xa0representing a\\xa0postfix expression, the task is to evaluate the expression and find the final value. Operators will only include the basic arithmetic operators like\\xa0***, /, +** \\n\\n</aside>\\n'"
            ],
            "application/vnd.google.colaboratory.intrinsic+json": {
              "type": "string"
            }
          },
          "metadata": {},
          "execution_count": 5
        }
      ]
    },
    {
      "cell_type": "code",
      "source": [
        "def evaluate_postfix_expression(s):\n",
        "  stack=[]\n",
        "  def perform_operation(op,num1,num2):\n",
        "    if op=='+':\n",
        "      return num1+num2\n",
        "    elif op=='-':\n",
        "      return num1-num2\n",
        "    elif op=='*':\n",
        "      return num1*num2\n",
        "    elif op=='/':\n",
        "      return num1/num2\n",
        "\n",
        "\n",
        "    for char in s:\n",
        "      if char.isdigit():\n",
        "        stack.append(int(char))\n",
        "\n",
        "      else:\n",
        "        num2=stack.pop()\n",
        "        num1=stack.pop()\n",
        "        result=perform_operation(char)\n",
        "        stack.append(result)\n",
        "\n",
        "    return stack[0]\n",
        "\n",
        "\n",
        "\n",
        ""
      ],
      "metadata": {
        "id": "m9eDcIuKG0Jx"
      },
      "execution_count": 6,
      "outputs": []
    },
    {
      "cell_type": "code",
      "source": [
        "postfix_expression='53+82-'\n",
        "result=evaluate_postfix_expression(postfix_expression)\n",
        "print(result)"
      ],
      "metadata": {
        "colab": {
          "base_uri": "https://localhost:8080/",
          "height": 200
        },
        "id": "OnS42y_TSAxj",
        "outputId": "49b3fc8e-e3f9-4528-997f-b2023e4b269a"
      },
      "execution_count": 10,
      "outputs": [
        {
          "output_type": "error",
          "ename": "TypeError",
          "evalue": "ignored",
          "traceback": [
            "\u001b[0;31m---------------------------------------------------------------------------\u001b[0m",
            "\u001b[0;31mTypeError\u001b[0m                                 Traceback (most recent call last)",
            "\u001b[0;32m<ipython-input-10-f84fe6f89619>\u001b[0m in \u001b[0;36m<cell line: 2>\u001b[0;34m()\u001b[0m\n\u001b[1;32m      1\u001b[0m \u001b[0mpostfix_expression\u001b[0m\u001b[0;34m=\u001b[0m\u001b[0;34m'53+82-'\u001b[0m\u001b[0;34m\u001b[0m\u001b[0;34m\u001b[0m\u001b[0m\n\u001b[0;32m----> 2\u001b[0;31m \u001b[0mresult\u001b[0m\u001b[0;34m=\u001b[0m\u001b[0mevaluate_postfix_expression\u001b[0m\u001b[0;34m(\u001b[0m\u001b[0mpostfix_expression\u001b[0m\u001b[0;34m)\u001b[0m\u001b[0;34m\u001b[0m\u001b[0;34m\u001b[0m\u001b[0m\n\u001b[0m\u001b[1;32m      3\u001b[0m \u001b[0mprint\u001b[0m\u001b[0;34m(\u001b[0m\u001b[0mresult\u001b[0m\u001b[0;34m)\u001b[0m\u001b[0;34m\u001b[0m\u001b[0;34m\u001b[0m\u001b[0m\n",
            "\u001b[0;31mTypeError\u001b[0m: 'str' object is not callable"
          ]
        }
      ]
    },
    {
      "cell_type": "code",
      "source": [
        "def evaluate_postfix_expression(S):\n",
        "    stack = []\n",
        "\n",
        "\n",
        "    def perform_operation(op, num1, num2):\n",
        "        if op == '+':\n",
        "            return num1 + num2\n",
        "        elif op == '-':\n",
        "            return num1 - num2\n",
        "        elif op == '*':\n",
        "            return num1 * num2\n",
        "        elif op == '/':\n",
        "            return num1 / num2\n",
        "\n",
        "\n",
        "    for char in S:\n",
        "        if char.isdigit():\n",
        "            stack.append(int(char))\n",
        "        else:\n",
        "            num2 = stack.pop()\n",
        "            num1 = stack.pop()\n",
        "            result = perform_operation(char, num1, num2)\n",
        "            stack.append(result)\n",
        "\n",
        "\n",
        "    return stack[0]\n",
        "\n",
        "\n",
        "\n"
      ],
      "metadata": {
        "id": "8NahuhtKS6ay"
      },
      "execution_count": 12,
      "outputs": []
    },
    {
      "cell_type": "code",
      "source": [
        "postfix_expression = \"53+82-*\"\n",
        "result = evaluate_postfix_expression(postfix_expression)\n",
        "print(result)"
      ],
      "metadata": {
        "colab": {
          "base_uri": "https://localhost:8080/"
        },
        "id": "v6UN2QluTZST",
        "outputId": "6cb201c9-ce04-4e85-9a9b-af98bf0d965d"
      },
      "execution_count": 13,
      "outputs": [
        {
          "output_type": "stream",
          "name": "stdout",
          "text": [
            "48\n"
          ]
        }
      ]
    },
    {
      "cell_type": "code",
      "source": [
        "\"\"\"\n",
        "<aside>\n",
        "💡 **Question 7**\n",
        "\n",
        "Design a stack that supports push, pop, top, and retrieving the minimum element in constant time.\n",
        "\n",
        "Implement the `MinStack` class:\n",
        "\n",
        "- `MinStack()` initializes the stack object.\n",
        "- `void push(int val)` pushes the element `val` onto the stack.\n",
        "- `void pop()` removes the element on the top of the stack.\n",
        "- `int top()` gets the top element of the stack.\n",
        "- `int getMin()` retrieves the minimum element in the stack.\n",
        "\n",
        "You must implement a solution with `O(1)` time complexity for each function.\n",
        "\n",
        "</aside>\n",
        "\"\"\""
      ],
      "metadata": {
        "colab": {
          "base_uri": "https://localhost:8080/",
          "height": 140
        },
        "id": "BnqlW_9TT8VS",
        "outputId": "25430405-c15d-41b8-b528-b5996dc3d851"
      },
      "execution_count": 14,
      "outputs": [
        {
          "output_type": "execute_result",
          "data": {
            "text/plain": [
              "'\\n<aside>\\n💡 **Question 7**\\n\\nDesign a stack that supports push, pop, top, and retrieving the minimum element in constant time.\\n\\nImplement the\\xa0`MinStack`\\xa0class:\\n\\n- `MinStack()`\\xa0initializes the stack object.\\n- `void push(int val)`\\xa0pushes the element\\xa0`val`\\xa0onto the stack.\\n- `void pop()`\\xa0removes the element on the top of the stack.\\n- `int top()`\\xa0gets the top element of the stack.\\n- `int getMin()`\\xa0retrieves the minimum element in the stack.\\n\\nYou must implement a solution with\\xa0`O(1)`\\xa0time complexity for each function.\\n\\n</aside>\\n'"
            ],
            "application/vnd.google.colaboratory.intrinsic+json": {
              "type": "string"
            }
          },
          "metadata": {},
          "execution_count": 14
        }
      ]
    },
    {
      "cell_type": "code",
      "source": [
        "class MinStack:\n",
        "  def __init__(self):\n",
        "    self.stack=[]\n",
        "    self.min_stack=[]\n",
        "\n",
        "  def push(self,val:int)->None:\n",
        "    self.stack.append(val)\n",
        "    if not self.min_stack or val <=self.min_stack[-1]:\n",
        "      self.min_stack.append(val)\n",
        "\n",
        "    else:\n",
        "      self.min_stack.append(self.min_stack[-1])\n",
        "\n",
        "\n",
        "  def pop(self)->None:\n",
        "    if self.stack:\n",
        "      self.stack.pop()\n",
        "      self.min_stack.pop()\n",
        "\n",
        "\n",
        "  def pop(self)->None:\n",
        "    if self.stack:\n",
        "      return self.stack[-1]\n",
        "\n",
        "\n",
        "  def getMin(self)->int:\n",
        "    if self.min_stack:\n",
        "      return self.min_stack[-1]\n",
        "\n",
        "\n",
        "\n"
      ],
      "metadata": {
        "id": "2PKrGyOUUMbS"
      },
      "execution_count": 17,
      "outputs": []
    },
    {
      "cell_type": "code",
      "source": [
        "min_stack=MinStack()\n",
        "min_stack.push(3)\n",
        "min_stack.push(5)\n",
        "min_stack.push(2)\n",
        "min_stack.push(7)"
      ],
      "metadata": {
        "id": "bAT32Z4Jh2Gk"
      },
      "execution_count": 18,
      "outputs": []
    },
    {
      "cell_type": "code",
      "source": [
        "print(min_stack.getMin())\n",
        "min_stack.pop()\n",
        "print(min_stack.top())\n",
        "print(min_stack.getMin())"
      ],
      "metadata": {
        "colab": {
          "base_uri": "https://localhost:8080/"
        },
        "id": "uW43CGQeiPN9",
        "outputId": "014b1dd0-23e4-46dc-a562-79ef6ae2571b"
      },
      "execution_count": 19,
      "outputs": [
        {
          "output_type": "stream",
          "name": "stdout",
          "text": [
            "2\n",
            "2\n",
            "2\n"
          ]
        }
      ]
    },
    {
      "cell_type": "code",
      "source": [
        "\"\"\"\n",
        "<aside>\n",
        "💡 **Question 8**\n",
        "\n",
        "Given `n` non-negative integers representing an elevation map where the width of each bar is `1`, compute how much water it can trap after raining.\n",
        "\n",
        "</aside>\n",
        "\"\"\""
      ],
      "metadata": {
        "colab": {
          "base_uri": "https://localhost:8080/",
          "height": 70
        },
        "id": "5W8R1OSai2PV",
        "outputId": "91b9dc87-c721-428d-d2cd-515ab6c55832"
      },
      "execution_count": 20,
      "outputs": [
        {
          "output_type": "execute_result",
          "data": {
            "text/plain": [
              "'\\n<aside>\\n💡 **Question 8**\\n\\nGiven\\xa0`n`\\xa0non-negative integers representing an elevation map where the width of each bar is\\xa0`1`, compute how much water it can trap after raining.\\n\\n</aside>\\n'"
            ],
            "application/vnd.google.colaboratory.intrinsic+json": {
              "type": "string"
            }
          },
          "metadata": {},
          "execution_count": 20
        }
      ]
    },
    {
      "cell_type": "code",
      "source": [
        "def trap(height):\n",
        "    if not height or len(height) < 3:\n",
        "        return 0\n",
        "\n",
        "    n = len(height)\n",
        "    left_max = [0] * n\n",
        "    right_max = [0] * n\n",
        "\n",
        "    # Calculate the maximum height from the left up to each bar\n",
        "    left_max[0] = height[0]\n",
        "    for i in range(1, n):\n",
        "        left_max[i] = max(left_max[i - 1], height[i])\n",
        "\n",
        "    # Calculate the maximum height from the right up to each bar\n",
        "    right_max[n - 1] = height[n - 1]\n",
        "    for i in range(n - 2, -1, -1):\n",
        "        right_max[i] = max(right_max[i + 1], height[i])\n",
        "\n",
        "    trapped_water = 0\n",
        "    for i in range(n):\n",
        "        trapped_water += min(left_max[i], right_max[i]) - height[i]\n",
        "\n",
        "    return trapped_water\n",
        "\n",
        "elevation_map = [0,1,0,2,1,0,1,3,2,1,2,1]\n",
        "print(trap(elevation_map))\n"
      ],
      "metadata": {
        "colab": {
          "base_uri": "https://localhost:8080/"
        },
        "id": "VK3y8CFLtBB3",
        "outputId": "1ca83735-8ad7-4111-ba59-116679d95074"
      },
      "execution_count": 23,
      "outputs": [
        {
          "output_type": "stream",
          "name": "stdout",
          "text": [
            "6\n"
          ]
        }
      ]
    },
    {
      "cell_type": "code",
      "source": [],
      "metadata": {
        "id": "GT2ThBcxtKBP"
      },
      "execution_count": null,
      "outputs": []
    }
  ]
}